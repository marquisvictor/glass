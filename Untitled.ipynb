{
 "cells": [
  {
   "cell_type": "code",
   "execution_count": 16,
   "id": "2859f25b-d63c-4a53-82e6-9d3a81d74060",
   "metadata": {},
   "outputs": [],
   "source": [
    "victor = 10"
   ]
  },
  {
   "cell_type": "code",
   "execution_count": 17,
   "id": "ca437ca2-1da3-45ea-a5fc-8cad216b6431",
   "metadata": {},
   "outputs": [
    {
     "data": {
      "text/plain": [
       "10"
      ]
     },
     "execution_count": 17,
     "metadata": {},
     "output_type": "execute_result"
    }
   ],
   "source": [
    "victor"
   ]
  },
  {
   "cell_type": "code",
   "execution_count": 21,
   "id": "1124949f-cf21-4276-8e7b-60df9f7c432c",
   "metadata": {},
   "outputs": [],
   "source": [
    "victor += 5"
   ]
  },
  {
   "cell_type": "code",
   "execution_count": 24,
   "id": "5d662167-73f4-4f50-a7bc-584957ffad22",
   "metadata": {},
   "outputs": [
    {
     "data": {
      "text/plain": [
       "20"
      ]
     },
     "execution_count": 24,
     "metadata": {},
     "output_type": "execute_result"
    }
   ],
   "source": [
    "victor"
   ]
  },
  {
   "cell_type": "code",
   "execution_count": 29,
   "id": "a86c562e-1679-4110-b292-60fa2cadeef6",
   "metadata": {},
   "outputs": [
    {
     "data": {
      "text/plain": [
       "15"
      ]
     },
     "execution_count": 29,
     "metadata": {},
     "output_type": "execute_result"
    }
   ],
   "source": [
    "class Example(object): \n",
    "    count = 10\n",
    "\n",
    "    def __init__(self):\n",
    "        Example.count+=5\n",
    "        self.next = Example.count\n",
    "\n",
    "a = Example()\n",
    "a.next"
   ]
  },
  {
   "cell_type": "code",
   "execution_count": 30,
   "id": "60ad6451-35c9-4cd2-8dde-1d4fa85fc364",
   "metadata": {},
   "outputs": [
    {
     "data": {
      "text/plain": [
       "20"
      ]
     },
     "execution_count": 30,
     "metadata": {},
     "output_type": "execute_result"
    }
   ],
   "source": [
    "b = Example()\n",
    "b.next"
   ]
  },
  {
   "cell_type": "code",
   "execution_count": 31,
   "id": "a46da036-8b59-48ee-aa91-65b0083e1f68",
   "metadata": {},
   "outputs": [
    {
     "data": {
      "text/plain": [
       "25"
      ]
     },
     "execution_count": 31,
     "metadata": {},
     "output_type": "execute_result"
    }
   ],
   "source": [
    "c = Example()\n",
    "c.next"
   ]
  },
  {
   "cell_type": "code",
   "execution_count": 39,
   "id": "777384b7-7b64-47ad-9726-aff22cd07baf",
   "metadata": {},
   "outputs": [],
   "source": [
    "import math\n",
    "\n",
    "class Point(Example):\n",
    "\n",
    "    def __init__(self, x, y):\n",
    "        Example.__init__(self)\n",
    "        self.x = x\n",
    "        self.y = y\n",
    "\n",
    "    def __str__(self): \n",
    "        pass\n",
    "        # return ### string. \n",
    "\n",
    "    def __eq__(self, other): \n",
    "        pass\n",
    "\n",
    "    def distance(self, other):\n",
    "        # d = math.sqrt(<logic>)\n",
    "        # return d\n",
    "        pass\n",
    "\n",
    "    def quadrant(self):\n",
    "        # if elif elif else\n",
    "        pass\n",
    "    "
   ]
  },
  {
   "cell_type": "code",
   "execution_count": 44,
   "id": "c88192d3-22c2-4f7b-a12c-f7cbc8c06ef8",
   "metadata": {},
   "outputs": [
    {
     "data": {
      "text/plain": [
       "(5, 7, 55)"
      ]
     },
     "execution_count": 44,
     "metadata": {},
     "output_type": "execute_result"
    }
   ],
   "source": [
    "p =  Point(5, 7)\n",
    "p.x, p.y, p.next"
   ]
  },
  {
   "cell_type": "code",
   "execution_count": 36,
   "id": "070a5536-2a27-4983-aad3-1d281f07de32",
   "metadata": {},
   "outputs": [
    {
     "data": {
      "text/plain": [
       "False"
      ]
     },
     "execution_count": 36,
     "metadata": {},
     "output_type": "execute_result"
    }
   ],
   "source": [
    "if (x>0) and (y>0):\n",
    "    return ## action\n",
    "elif ####: \n",
    "    return ##action "
   ]
  },
  {
   "cell_type": "code",
   "execution_count": null,
   "id": "d34ed795-5add-45a3-85ca-4e9d3d4201b3",
   "metadata": {},
   "outputs": [],
   "source": [
    "print(f'i am ${vic %}')\n",
    "\n",
    "(2.3456, 5.4756)\n",
    "\n",
    "(2.35, 5.48)"
   ]
  },
  {
   "cell_type": "code",
   "execution_count": null,
   "id": "af866d70-99d8-40c7-b415-4486e986e935",
   "metadata": {},
   "outputs": [],
   "source": []
  },
  {
   "cell_type": "code",
   "execution_count": null,
   "id": "44e9a45b-2b6e-400d-abb7-4b9c599f9869",
   "metadata": {},
   "outputs": [],
   "source": [
    "class Line(Example):\n",
    "\n",
    "    def __init__(self):\n",
    "        Example.__init__(self)\n",
    "        self.p = []\n",
    "        # do similar with counts and set it to zero\n",
    "\n",
    "    def append(self, other):\n",
    "        pass\n",
    "\n",
    "    def __str__(self):\n",
    "        pass\n",
    "\n",
    "    def __getLength__(self):\n",
    "        total_length = 0\n",
    "        # for loop through each pair of consecutive points\n",
    "        \n",
    "        return total_length        \n",
    "        \n",
    "        "
   ]
  },
  {
   "cell_type": "code",
   "execution_count": null,
   "id": "7174a8b0-bfcb-4f4d-9a9c-6072127e902d",
   "metadata": {},
   "outputs": [],
   "source": []
  },
  {
   "cell_type": "code",
   "execution_count": 58,
   "id": "dac3e543-9697-4a37-969e-b75d876c2f77",
   "metadata": {},
   "outputs": [
    {
     "data": {
      "text/plain": [
       "['p1', 'p2', 'p3', 'p4']"
      ]
     },
     "execution_count": 58,
     "metadata": {},
     "output_type": "execute_result"
    }
   ],
   "source": [
    "points = ['p1', 'p2', 'p3', 'p4']\n",
    "\n",
    "# points.append('p5')\n",
    "\n",
    "points"
   ]
  },
  {
   "cell_type": "code",
   "execution_count": 61,
   "id": "a991d29a-d032-42cd-a440-401dac7be1c3",
   "metadata": {},
   "outputs": [
    {
     "name": "stdout",
     "output_type": "stream",
     "text": [
      "p1\n",
      "p2\n",
      "p2\n",
      "p3\n",
      "p3\n",
      "p4\n"
     ]
    }
   ],
   "source": [
    "for i in range(len(points)-1):\n",
    "    point1 = points[i]\n",
    "    point2 = points[i+1]\n",
    "    print(point1)\n",
    "    print(point2)\n",
    "\n",
    "    p1.distance(p2)\n"
   ]
  },
  {
   "cell_type": "code",
   "execution_count": null,
   "id": "65a6e6dc-d78e-4548-8730-471270d7b22b",
   "metadata": {},
   "outputs": [],
   "source": []
  },
  {
   "cell_type": "code",
   "execution_count": null,
   "id": "7de3f400-f958-415a-8e12-244bbcdf1deb",
   "metadata": {},
   "outputs": [],
   "source": []
  },
  {
   "cell_type": "code",
   "execution_count": 48,
   "id": "bc1af702-ae15-4d30-af96-c514662f786c",
   "metadata": {},
   "outputs": [],
   "source": [
    "points.remove('p5')"
   ]
  },
  {
   "cell_type": "code",
   "execution_count": 55,
   "id": "60598c2b-0b7e-44ad-bafa-95a02946b267",
   "metadata": {},
   "outputs": [
    {
     "data": {
      "text/plain": [
       "'p4'"
      ]
     },
     "execution_count": 55,
     "metadata": {},
     "output_type": "execute_result"
    }
   ],
   "source": [
    "points.pop()"
   ]
  },
  {
   "cell_type": "code",
   "execution_count": 57,
   "id": "c305df2e-5578-4523-b7c6-28326e568a0f",
   "metadata": {},
   "outputs": [
    {
     "name": "stdout",
     "output_type": "stream",
     "text": [
      "i am a boy \n",
      " that lives in a mansion\n"
     ]
    }
   ],
   "source": [
    "word = \"i am a boy that lives in a mansion\"\n",
    "\n",
    "print(word)"
   ]
  },
  {
   "cell_type": "code",
   "execution_count": null,
   "id": "4244c2d1-0561-40fe-9d6a-e48ddd2663fd",
   "metadata": {},
   "outputs": [],
   "source": []
  },
  {
   "cell_type": "code",
   "execution_count": null,
   "id": "8e29fa02-5149-4d12-b99c-33ddaaf3165e",
   "metadata": {},
   "outputs": [],
   "source": []
  },
  {
   "cell_type": "code",
   "execution_count": null,
   "id": "af30bfdb-56bc-4a1e-97b8-f93cabc33ded",
   "metadata": {},
   "outputs": [],
   "source": []
  }
 ],
 "metadata": {
  "kernelspec": {
   "display_name": "Python 3 (ipykernel)",
   "language": "python",
   "name": "python3"
  },
  "language_info": {
   "codemirror_mode": {
    "name": "ipython",
    "version": 3
   },
   "file_extension": ".py",
   "mimetype": "text/x-python",
   "name": "python",
   "nbconvert_exporter": "python",
   "pygments_lexer": "ipython3",
   "version": "3.12.9"
  }
 },
 "nbformat": 4,
 "nbformat_minor": 5
}
